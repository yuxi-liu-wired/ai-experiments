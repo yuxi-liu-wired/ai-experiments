{
 "cells": [
  {
   "cell_type": "markdown",
   "id": "2b460ece-06d9-4436-a9cb-a4e67be56c5d",
   "metadata": {},
   "source": [
    "## Introduction\n",
    "\n",
    "Faiss is a library for efficient similarity search and clustering of dense vectors. It contains algorithms that search in sets of vectors of any size, up to ones that possibly do not fit in RAM. It also contains supporting code for evaluation and parameter tuning. Faiss is written in C++ with complete wrappers for Python/numpy. Some of the most useful algorithms are implemented on the GPU. It is developed primarily at Meta's [Fundamental AI Research](https://ai.facebook.com/) group.\n",
    "\n",
    "[facebookresearch/faiss: A library for efficient similarity search and clustering of dense vectors.](https://github.com/facebookresearch/faiss)\n",
    "\n",
    "## Installation\n",
    "\n",
    "The simplest installation is just `pip install faiss-gpu`, or `pip install faiss-cpu`. The GPU version is faster, but has more dependencies and more likely to fail.\n",
    "\n",
    "### Tests\n",
    "\n",
    "We test that the installed FAISS works. The `simple_check_faiss` generates 1000 random vectors in $\\mathbb R^{32}$, then check that each vector is closest to itself."
   ]
  },
  {
   "cell_type": "code",
   "execution_count": 35,
   "id": "d6cce170-41f2-4ad5-ae6d-29760a9960e4",
   "metadata": {
    "tags": []
   },
   "outputs": [
    {
     "name": "stdout",
     "output_type": "stream",
     "text": [
      "Simple check passed.\n"
     ]
    }
   ],
   "source": [
    "import numpy as np\n",
    "import faiss\n",
    "\n",
    "def simple_check_faiss():\n",
    "    dimension = 32  # Dimension of the vector\n",
    "    num_vectors = 1000  # Number of vectors\n",
    "\n",
    "    # Generate some random vectors\n",
    "    # np.random.seed(2)  # For reproducibility\n",
    "    vectors = np.random.random((num_vectors, dimension)).astype('float32')\n",
    "\n",
    "    # Create a Faiss index\n",
    "    index = faiss.IndexFlatL2(dimension)\n",
    "\n",
    "    # Add vectors to the index\n",
    "    index.add(vectors)\n",
    "\n",
    "    # Perform a search\n",
    "    num_neighbors = 6  # Number of nearest neighbors to return\n",
    "    _, indices = index.search(vectors, num_neighbors)  # Search for the first vector\n",
    "    \n",
    "    assert np.array_equal(indices[:, 0], np.arange(num_vectors))\n",
    "    print(f\"Simple check passed.\")\n",
    "    \n",
    "simple_check_faiss()"
   ]
  },
  {
   "cell_type": "markdown",
   "id": "c3226b33-7583-4154-bb20-aeeb0ee15ef0",
   "metadata": {},
   "source": [
    "Next, we construct a simple semantic search index over some arXiv papers. The data is stored in a `json` file `arxiv-metadata-10000.json`. It has 10000 lines, each of which is a `json` object containing metadata for a paper on arXiv. For example, the first line is (after formatting for easy reading):\n",
    "\n",
    "```json\n",
    "{\n",
    "  \"id\": \"0704.0001\",\n",
    "  \"submitter\": \"Pavel Nadolsky\",\n",
    "  \"authors\": \"C. Bal\\\\'azs, E. L. Berger, P. M. Nadolsky, C.-P. Yuan\",\n",
    "  \"title\": \"Calculation of prompt diphoton production cross sections at Tevatron and\\n  LHC energies\",\n",
    "  \"comments\": \"37 pages, 15 figures; published version\",\n",
    "  \"journal-ref\": \"Phys.Rev.D76:013009,2007\",\n",
    "  \"doi\": \"10.1103/PhysRevD.76.013009\",\n",
    "  \"report-no\": \"ANL-HEP-PR-07-12\",\n",
    "  \"categories\": \"hep-ph\",\n",
    "  \"license\": null,\n",
    "  \"abstract\": \"  A fully differential calculation in perturbative quantum chromodynamics is\\npresented for the production of massive photon pairs at hadron colliders. All\\nnext-to-leading order perturbative contributions from quark-antiquark,\\ngluon-(anti)quark, and gluon-gluon subprocesses are included, as well as\\nall-orders resummation of initial-state gluon radiation valid at\\nnext-to-next-to-leading logarithmic accuracy. The region of phase space is\\nspecified ...\",\n",
    "  \"versions\": [ { \"version\": \"v1\", \"created\": \"Mon, 2 Apr 2007 19:18:42 GMT\" }, { \"version\": \"v2\", \"created\": \"Tue, 24 Jul 2007 20:10:27 GMT\" } ],\n",
    "  \"update_date\": \"2008-11-26\",\n",
    "  \"authors_parsed\": [ [ \"Balázs\", \"C.\", \"\" ], [ \"Berger\", \"E. L.\", \"\" ], [ \"Nadolsky\", \"P. M.\", \"\" ], [ \"Yuan\", \"C. -P.\", \"\" ] ]}\n",
    "```\n",
    "\n",
    "On my machine, DistilBERT runs at 15 entry/sec on CPU, and 100 entry/sec on GPU. It would take 5 hours to compile the entire Arxiv dataset of 1.7 million papers. The entire dataset is found in [arXiv Dataset | Kaggle](https://www.kaggle.com/datasets/Cornell-University/arxiv). It would take up 3.7 GB of space. Since this is a toy project you should not run it on the whole database."
   ]
  },
  {
   "cell_type": "code",
   "execution_count": 66,
   "id": "ee2da031-190d-4d73-a6a1-a6d4fda46509",
   "metadata": {
    "tags": []
   },
   "outputs": [],
   "source": [
    "queries = [\"Why does water boil?\", \"Why is the sun hot?\"]"
   ]
  },
  {
   "cell_type": "code",
   "execution_count": 79,
   "id": "d1009e83-5ccf-4ebf-b581-01bbf777f20a",
   "metadata": {
    "tags": []
   },
   "outputs": [
    {
     "name": "stderr",
     "output_type": "stream",
     "text": [
      "Some weights of the model checkpoint at distilbert-base-uncased were not used when initializing DistilBertModel: ['vocab_layer_norm.weight', 'vocab_projector.bias', 'vocab_layer_norm.bias', 'vocab_transform.bias', 'vocab_transform.weight']\n",
      "- This IS expected if you are initializing DistilBertModel from the checkpoint of a model trained on another task or with another architecture (e.g. initializing a BertForSequenceClassification model from a BertForPreTraining model).\n",
      "- This IS NOT expected if you are initializing DistilBertModel from the checkpoint of a model that you expect to be exactly identical (initializing a BertForSequenceClassification model from a BertForSequenceClassification model).\n",
      "100%|█████████████████████████████████████████████████████████████████████████████████| 625/625 [02:12<00:00,  4.73it/s]"
     ]
    },
    {
     "name": "stdout",
     "output_type": "stream",
     "text": [
      "Added 10000 papers to the FAISS index.\n"
     ]
    },
    {
     "name": "stderr",
     "output_type": "stream",
     "text": [
      "\n"
     ]
    }
   ],
   "source": [
    "import json\n",
    "import numpy as np\n",
    "import faiss\n",
    "from transformers import DistilBertModel, DistilBertTokenizer\n",
    "\n",
    "# Check if CUDA is available and set the device\n",
    "device = torch.device(\"cuda\" if torch.cuda.is_available() else \"cpu\")\n",
    "\n",
    "# DistilBERT setup\n",
    "tokenizer = DistilBertTokenizer.from_pretrained('distilbert-base-uncased')\n",
    "model_bert = DistilBertModel.from_pretrained('distilbert-base-uncased')\n",
    "model_bert = model_bert.to(device)  # Move the model to the GPU\n",
    "\n",
    "# vectorize text batches\n",
    "def vectorize_texts(texts):\n",
    "    inputs = tokenizer(texts, return_tensors='pt', truncation=True, padding=True, max_length=512)\n",
    "    inputs = {name: tensor.to(device) for name, tensor in inputs.items()}  # Move the inputs to the GPU\n",
    "    outputs = model_bert(**inputs)\n",
    "    return outputs.last_hidden_state.mean(dim=1).cpu().detach().numpy()  # Move the result back to the CPU\n",
    "\n",
    "# FAISS index setup\n",
    "dimension = 768  # DistilBERT output dimension\n",
    "index_bert = faiss.IndexFlatL2(dimension)\n",
    "\n",
    "# Extract and vectorize data\n",
    "db_filename = 'arxiv-metadata-10000.json'\n",
    "num_lines = 10000\n",
    "\n",
    "batch_size = 16\n",
    "with open(db_filename, 'r') as f:\n",
    "    for _ in tqdm(range(num_lines // batch_size)):\n",
    "        lines = [f.readline() for _ in range(batch_size)]\n",
    "        papers = [json.loads(line) for line in lines]\n",
    "\n",
    "        # Extract the papers' titles and abstracts\n",
    "        texts = [f\"{paper['title']}: {paper['abstract']}\" for paper in papers]\n",
    "\n",
    "        # Create vectors using DistilBERT\n",
    "        vectors = vectorize_texts(texts)\n",
    "\n",
    "        # Add the vectors to the FAISS index\n",
    "        index_bert.add(np.array(vectors).astype('float32'))\n",
    "\n",
    "print(f\"Added {num_lines} papers to the FAISS index.\")"
   ]
  },
  {
   "cell_type": "code",
   "execution_count": 81,
   "id": "918aeb3b-ac49-4fcf-a2c9-605fc3a01cc3",
   "metadata": {
    "tags": []
   },
   "outputs": [
    {
     "name": "stdout",
     "output_type": "stream",
     "text": [
      "Question: Why does water boil?\n",
      "\n",
      "Title: Extraction of Freshwater and Energy from Atmosphere\n",
      "Abstract: Author offers and researches a new, cheap method for the extraction of freshwater from the Earth atmosphere. The suggected method is fundamentally dictinct from all existing methods that extract freshwater from air. All other industrial methods extract water from a saline water source (in most cases from seawater). This new method may be used at any point in the Earth except Polar Zones. It does not require long-distance freshwater transportation. If seawater is not utilized for increasing its productivity, this inexpensive new method is very environment-friendly. The author method has two working versions: (1) the first variant the warm (hot) atmospheric air is lifted by the inflatable tube in a high altitude and atmospheric steam is condenced into freswater: (2) in the second version, the warm air is pumped 20-30 meters under the sea-surface. In the first version, wind and solar heating of air are used for causing air flow. In version (2) wind and propeller are used for causing air movment. The first method does not need energy, the second needs a small amount. Moreover, in variant (1) the freshwater has a high pressure (>30 or more atm.) and can be used for production of energy such as electricity and in that way the freshwater cost is lower. For increasing the productivity the seawater is injected into air and solar air heater may be used. The solar air heater produces a huge amount of electricity as a very powerful electricity generation plant. The offered electricity installation in 100 - 200 times cheaper than any common electric plant of equivalent output. Key words: Extraction freshwater, method of getting freshwater, receiving energy from atmosphere, powerful renewal electric plant. \n",
      "\n",
      "Title: Elastic properties of vanadium pentoxide aggregates and topological defects\n",
      "Abstract: We study the aqueous solution of vanadium pentoxide by using topology methods. The experiments by Zocher, Kaznacheev, and Dogic exhibited, that in the sol phases of $V_2O_5-H_2O$, the tactoid droplets of $V_2O_5$ can coalesce. In the magnetic field, this effect is associated with a gauge field action, viz. we consider coalescence (in the topologically more convenient term, \"junction\") of droplets as annihilation of topological defects, concerning with the tactoid geometry. We have shown, that in the magnetic field, the tactoid junction is mainly caused by non-Abelian monopoles (vortons), whereas the Abelian defects almost do not annihilate. Taking into account this annihilation mechanism, the estimations of time-aging of the $V_2O_5-H_2O$ sols may be specified \n",
      "\n",
      "--------------------------------------------------------------------------------\n",
      "Question: Why is the sun hot?\n",
      "\n",
      "Title: A map of the day-night contrast of the extrasolar planet HD 189733b\n",
      "Abstract: \"Hot Jupiter\" extrasolar planets are expected to be tidally locked because they are close (<0.05 astronomical units, where 1 AU is the average Sun-Earth distance) to their parent stars, resulting in permanent daysides and nightsides. By observing systems where the planet and star periodically eclipse each other, several groups have been able to estimate the temperatures of the daysides of these planets. A key question is whether the atmosphere is able to transport the energy incident upon the dayside to the nightside, which will determine the temperature at different points on the planet's surface. Here we report observations of HD 189733, the closest of these eclipsing planetary systems, over half an orbital period, from which we can construct a 'map' of the distribution of temperatures. We detected the increase in brightness as the dayside of the planet rotated into view. We estimate a minimum brightness temperature of 973 +/- 33 K and a maximum brightness temperature of 1212 +/- 11 K at a wavelength of 8 microns, indicating that energy from the irradiated dayside is efficiently redistributed throughout the atmosphere, in contrast to a recent claim for another hot Jupiter. Our data indicate that the peak hemisphere-integrated brightness occurs 16±6 degrees before opposition, corresponding to a hot spot shifted east of the substellar point. The secondary eclipse (when the planet moves behind the star) occurs 120 +/- 24 s later than predicted, which may indicate a slightly eccentric orbit. \n",
      "\n",
      "Title: The habitability of super-Earths in Gliese 581\n",
      "Abstract: Aims: The planetary system around the M star Gliese 581 consists of a hot Neptune (Gl 581b) and two super-Earths (Gl 581c and Gl 581d). The habitability of this system with respect to the super-Earths is investigated following a concept that studies the long-term possibility of photosynthetic biomass production on a dynamically active planet. Methods: A thermal evolution model for a super-Earth is used to calculate the sources and sinks of atmospheric carbon dioxide. The habitable zone is determined by the limits of biological productivity on the planetary surface. Models with different ratios of land / ocean coverage are investigated. Results: The super-Earth Gl 581c is clearly outside the habitable zone, since it is too close to the star. In contrast, Gl 581d is a tidally locked habitable super-Earth near the outer edge of the habitable zone. Despite the adverse conditions on this planet, at least some primitive forms of life may be able to exist on its surface.Therefore, Gl 581d is an interesting target for the planned TPF/Darwin missions to search for biomarkers in planetary atmospheres. \n",
      "\n",
      "--------------------------------------------------------------------------------\n"
     ]
    }
   ],
   "source": [
    "def search_bert(query, k=5):\n",
    "    vector = vectorize_texts([query])\n",
    "    _, indices = index_bert.search(np.array(vector).astype('float32'), k)\n",
    "    return indices[0]\n",
    "\n",
    "def load_paper_details():\n",
    "    with open(db_filename, 'r') as f:\n",
    "        return [json.loads(line) for line in f]\n",
    "paper_details = load_paper_details()\n",
    "\n",
    "import latexcodec\n",
    "def print_paper_details(line_numbers):\n",
    "    for i in line_numbers:\n",
    "        paper = paper_details[i]\n",
    "        title = paper['title'].replace('\\n', ' ').encode().decode('latex')\n",
    "        print(f\"Title: {title}\")\n",
    "        abstract = paper['abstract'].replace('\\n', ' ').encode().decode('latex')\n",
    "        print(f\"Abstract: {abstract}\\n\")\n",
    "\n",
    "for query in queries:\n",
    "    print(f\"Question: {query}\\n\")\n",
    "    line_numbers = search_bert(query, k=2)\n",
    "    print_paper_details(line_numbers)\n",
    "    print('-'*80)"
   ]
  },
  {
   "cell_type": "markdown",
   "id": "5ec2f203-f81b-421a-8d64-5d32b4e1a30b",
   "metadata": {},
   "source": [
    "## `Instructor` model embedding\n",
    "\n",
    "As we see, the search is okay. Let's try something else than DistilBERT: the `Instructor-base`. \n",
    "\n",
    "In short, `Instructor-base` is a language model that turns text into vectors, like DistilBERT, but unlike DistilBERT, it can be prompted. The idea is that DistilBERT is a domain-general embedder, but sometimes you need to make something domain-specific, to preserve different kinds of information. For example, an embedder for math papers should preserve distinctions between \"ball\" and \"sphere\" and \"circle\" and \"disk\", and an embedder for poetry should preserve rhyming information.\n",
    "\n",
    "There are three models: `base`, `large`, `xl` (extra-large). We use the `base` model for experimenting as it is the fastest.\n",
    "\n"
   ]
  },
  {
   "cell_type": "code",
   "execution_count": 74,
   "id": "0d26e2fa-f721-4a22-98f2-fe6fe6c9a722",
   "metadata": {
    "tags": []
   },
   "outputs": [
    {
     "name": "stdout",
     "output_type": "stream",
     "text": [
      "load INSTRUCTOR_Transformer\n",
      "max_seq_length  512\n"
     ]
    }
   ],
   "source": [
    "from InstructorEmbedding import INSTRUCTOR\n",
    "model_ins = INSTRUCTOR('hkunlp/instructor-base')"
   ]
  },
  {
   "cell_type": "code",
   "execution_count": 75,
   "id": "33bb181d-6b7d-4016-b45b-8c1574ecbe2b",
   "metadata": {
    "tags": []
   },
   "outputs": [
    {
     "name": "stdout",
     "output_type": "stream",
     "text": [
      "(1, 768)\n"
     ]
    }
   ],
   "source": [
    "sentence = \"3D ActionSLAM: wearable person tracking in multi-floor environments\"\n",
    "instruction = \"Represent the Science title:\"\n",
    "embeddings = model_ins.encode([[instruction,sentence]])\n",
    "print(embeddings.shape)"
   ]
  },
  {
   "cell_type": "code",
   "execution_count": 64,
   "id": "57a11727-0643-449c-8f3b-f8ca106464eb",
   "metadata": {
    "tags": []
   },
   "outputs": [
    {
     "name": "stdout",
     "output_type": "stream",
     "text": [
      "device =  cuda\n"
     ]
    },
    {
     "name": "stderr",
     "output_type": "stream",
     "text": [
      "Batches: 100%|██████████████████████████████████████████████████████████████████████| 2500/2500 [03:10<00:00, 13.13it/s]\n"
     ]
    },
    {
     "name": "stdout",
     "output_type": "stream",
     "text": [
      "Added 10000 papers to the FAISS index.\n"
     ]
    }
   ],
   "source": [
    "import json\n",
    "import numpy as np\n",
    "import faiss\n",
    "import torch\n",
    "\n",
    "# Check if CUDA is available and set the device\n",
    "device = torch.device(\"cuda\" if torch.cuda.is_available() else \"cpu\")\n",
    "print(\"device = \", device)\n",
    "\n",
    "# FAISS index setup\n",
    "dimension = 768  # Instructor-XL output dimension\n",
    "index_ins = faiss.IndexFlatL2(dimension)\n",
    "\n",
    "# Extract and vectorize data\n",
    "db_filename = 'arxiv-metadata-10000.json'\n",
    "num_lines = 10000\n",
    "batch_size = 4\n",
    "\n",
    "# Load all papers from JSON\n",
    "with open(db_filename, 'r') as f:\n",
    "    papers = [json.loads(line) for line in f]\n",
    "\n",
    "# Extract the papers' titles and abstracts\n",
    "texts = [f\"{paper['title']}: {paper['abstract']}\" for paper in papers]\n",
    "\n",
    "# Preparation for encoding\n",
    "instructions = [\"Represent the science titles and abstracts: \"] * len(texts)\n",
    "\n",
    "# Prepare the inputs\n",
    "inputs = [[instr, txt] for instr, txt in zip(instructions, texts)]\n",
    "\n",
    "# Create vectors using Instructor\n",
    "vectors = model_ins.encode(\n",
    "    sentences=inputs[:num_lines],\n",
    "    batch_size=batch_size,\n",
    "    show_progress_bar=True,\n",
    "    convert_to_numpy=True,\n",
    "    device=str(device)\n",
    ")\n",
    "\n",
    "# Add the vectors to the FAISS index\n",
    "index_ins.add(np.array(vectors).astype('float32'))\n",
    "\n",
    "print(f\"Added {num_lines} papers to the FAISS index.\")\n"
   ]
  },
  {
   "cell_type": "code",
   "execution_count": 85,
   "id": "fb75783b-be85-44ad-8b40-dae751d93253",
   "metadata": {
    "tags": []
   },
   "outputs": [
    {
     "name": "stdout",
     "output_type": "stream",
     "text": [
      "Question: Why does water boil?\n",
      "\n",
      "Title: Room temperature coexistence of large electric polarization and magnetic order in BiFeO3 single crystals\n",
      "Abstract: From an experimental point of view, room temperature ferroelectricity in BiFeO3 is raising many questions. Electric measurements made a long time ago on solid-solutions of BiFeO3 with Pb(Ti,Zr)O3 indicate that a spontaneous electric polarization exists in BiFeO3 below the Curie temperature TC=1143K. Yet in most reported works, the synthesised samples are too conductive at room temperature to get a clear polarization loop in the bulk without any effects of extrinsic physical or chemical parameters. Surprisingly, up to now there has been no report of a P(E) (polarization versus electric field) loop at room temperature on single crystals of BiFeO3. We describe here our procedure to synthesize ceramics and to grow good quality sizeable single crystals by a flux method. We demonstrate that BiFeO3 is indeed ferroelectric at room-temperature through evidence by Piezoresponse Force Microscopy and P(E) loops. The polarization is found to be large, around 60 microC/cm2, a value that has only been reached in thin films. Magnetic measurements using a SQUID magnetometer and Mossbauer spectroscopy are also presented. The latter confirms the results of NMR measurements concerning the anisotropy of the hyperfine field attributed to the magnetic cycloidal structure. \n",
      "\n",
      "Title: About the lifetime of a bouncing droplet\n",
      "Abstract: When a droplet is gently laid onto the surface of the same liquid, it stays at rest for a moment before coalescence. The coalescence can be delayed and sometimes inhibited by injecting fresh air under the droplet. This can happen when the surface of the bath oscillates vertically, in this case the droplet basically bounces on the interface. The lifetime of the droplet has been studied with respect to the amplitude and the frequency of the excitation. The lifetime decreases when the acceleration increases. The thickness of the air film between the droplet and the bath has been investigated using interference fringes obtained when the system is illuminated by low pressure sodium lamps. Moreover, both the shape evolution and the motion of the droplet center of mass have been recorded in order to evidence the phase offset between the deformation and the trajectory. A short lifetime is correlated to a small air film thickness and to a large phase offset between the maximum of deformation and the minimum of the vertical position of the centre of mass. \n",
      "\n",
      "--------------------------------------------------------------------------------\n",
      "Question: Why is the sun hot?\n",
      "\n",
      "Title: On the Structure and Properties of Differentially Rotating Main-Sequence Stars in the 1-2 M_sun Range\n",
      "Abstract: We conduct a systematic examination of the properties of models for chemically homogeneous, differentially rotating, main-sequence stars of mass 1-2 M_sun. The models were constructed using a code based on a reformulation of the self-consistent field method of computing the equilibrium stellar structure for a specified conservative internal rotation law. [abridged] Relative to nonrotating stars of the same mass, these models all have reduced luminosities and effective temperatures, and flattened photospheric shapes (i.e., decreased polar radii) with equatorial radii that can be larger or smaller, depending on the degree of differential rotation. For a fixed ratio of the axial rotation rate to the surface equatorial rotation rate, increasingly rapid rotation generally deepens convective envelopes, shrinks convective cores, and can lead to the presence of a convective core (envelope) in a 1 M_sun (2 M_sun) model, a feature that is absent in a nonrotating star of the same mass. The positions of differentially rotating models for a given mass M in the H-R diagram can be shifted in such a way as to approximate the nonrotating ZAMS over ranges in luminosity and effective temperature that correspond to a mass interval between M and about 0.7 M. We briefly note a few of the implications of these results, including (i) possible ambiguities arising from similarities between the properties of rotating and nonrotating models of different masses, (ii) a reduced radiative luminosity for a young, rapidly rotating Sun, (iii) the nuclear destruction of lithium and other light metallic species in the layers beneath an outer convective envelope, and (iv), the excitation of solar-like oscillations and the operation of a solar-like hydromagnetic dynamo in some 1.5-2 M_sun stars. \n",
      "\n",
      "Title: A map of the day-night contrast of the extrasolar planet HD 189733b\n",
      "Abstract: \"Hot Jupiter\" extrasolar planets are expected to be tidally locked because they are close (<0.05 astronomical units, where 1 AU is the average Sun-Earth distance) to their parent stars, resulting in permanent daysides and nightsides. By observing systems where the planet and star periodically eclipse each other, several groups have been able to estimate the temperatures of the daysides of these planets. A key question is whether the atmosphere is able to transport the energy incident upon the dayside to the nightside, which will determine the temperature at different points on the planet's surface. Here we report observations of HD 189733, the closest of these eclipsing planetary systems, over half an orbital period, from which we can construct a 'map' of the distribution of temperatures. We detected the increase in brightness as the dayside of the planet rotated into view. We estimate a minimum brightness temperature of 973 +/- 33 K and a maximum brightness temperature of 1212 +/- 11 K at a wavelength of 8 microns, indicating that energy from the irradiated dayside is efficiently redistributed throughout the atmosphere, in contrast to a recent claim for another hot Jupiter. Our data indicate that the peak hemisphere-integrated brightness occurs 16±6 degrees before opposition, corresponding to a hot spot shifted east of the substellar point. The secondary eclipse (when the planet moves behind the star) occurs 120 +/- 24 s later than predicted, which may indicate a slightly eccentric orbit. \n",
      "\n",
      "--------------------------------------------------------------------------------\n"
     ]
    }
   ],
   "source": [
    "def search_ins(query, k=5):\n",
    "    vector = model_ins.encode([\"Represent the query to a science database: \", query])\n",
    "    _, indices = index_ins.search(np.array(vector[1]).reshape(1, -1).astype('float32'), k)\n",
    "    return indices[0]\n",
    "\n",
    "for query in queries:\n",
    "    print(f\"Question: {query}\\n\")\n",
    "    line_numbers = search_ins(query, k=2)\n",
    "    print_paper_details(line_numbers)\n",
    "    print('-'*80)"
   ]
  },
  {
   "cell_type": "markdown",
   "id": "8d414215-0199-4848-bda5-76f00f2f16b3",
   "metadata": {},
   "source": [
    "We still got massively overwrought titles, but still, it found papers that are tangentially relevant!\n",
    "\n",
    "## Visualizing the vectors\n",
    "\n",
    "We do a tSNE clustering on each of the two FAISS datasets. They are both fairly diverse and \"blobby\"."
   ]
  },
  {
   "cell_type": "code",
   "execution_count": 89,
   "id": "3fa39483-8a1a-4730-8c40-280ff542b372",
   "metadata": {
    "tags": []
   },
   "outputs": [
    {
     "data": {
      "image/png": "[encoded data removed]",
      "text/plain": [
       "<Figure size 1200x600 with 2 Axes>"
      ]
     },
     "metadata": {},
     "output_type": "display_data"
    }
   ],
   "source": [
    "from sklearn.manifold import TSNE\n",
    "import matplotlib.pyplot as plt\n",
    "\n",
    "def run_tsne(index, ax):\n",
    "    # Retrieve the vectors from the FAISS index\n",
    "    num_vectors = 1000  # assuming you have at least 1000 vectors in your index\n",
    "    vecs = index.reconstruct_n(0, num_vectors)\n",
    "\n",
    "    # Run t-SNE\n",
    "    tsne = TSNE(n_components=2, random_state=0)\n",
    "    vecs_2d = tsne.fit_transform(vecs)\n",
    "\n",
    "    # Plot the results\n",
    "    ax.scatter(vecs_2d[:, 0], vecs_2d[:, 1], s=1)\n",
    "\n",
    "# Create a figure with two subplots\n",
    "fig, (ax1, ax2) = plt.subplots(1, 2, figsize=(12, 6))\n",
    "\n",
    "# Run t-SNE for index_ins\n",
    "run_tsne(index_ins, ax1)\n",
    "ax1.set_title('Index by Instruct')\n",
    "\n",
    "# Run t-SNE for index_bert\n",
    "run_tsne(index_bert, ax2)\n",
    "ax2.set_title('Index by DistilBERT')\n",
    "\n",
    "# Adjust spacing between subplots\n",
    "plt.tight_layout()\n",
    "\n",
    "# Display the figure\n",
    "plt.show()\n"
   ]
  },
  {
   "cell_type": "code",
   "execution_count": null,
   "id": "5aabfe01-002b-4fba-9ced-0ff49ed0bb0b",
   "metadata": {},
   "outputs": [],
   "source": []
  }
 ],
 "metadata": {
  "kernelspec": {
   "display_name": "Python [conda env:faiss]",
   "language": "python",
   "name": "conda-env-faiss-py"
  },
  "language_info": {
   "codemirror_mode": {
    "name": "ipython",
    "version": 3
   },
   "file_extension": ".py",
   "mimetype": "text/x-python",
   "name": "python",
   "nbconvert_exporter": "python",
   "pygments_lexer": "ipython3",
   "version": "3.9.15"
  }
 },
 "nbformat": 4,
 "nbformat_minor": 5
}
